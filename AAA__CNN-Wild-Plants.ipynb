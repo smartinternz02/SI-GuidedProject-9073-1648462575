{
 "cells": [
  {
   "cell_type": "code",
   "execution_count": 2,
   "metadata": {},
   "outputs": [
    {
     "data": {
      "text/plain": [
       "'2.5.0'"
      ]
     },
     "execution_count": 2,
     "metadata": {},
     "output_type": "execute_result"
    }
   ],
   "source": [
    "import tensorflow.keras\n",
    "tensorflow.keras.__version__"
   ]
  },
  {
   "cell_type": "code",
   "execution_count": 3,
   "metadata": {},
   "outputs": [
    {
     "data": {
      "text/plain": [
       "'2.5.0'"
      ]
     },
     "execution_count": 3,
     "metadata": {},
     "output_type": "execute_result"
    }
   ],
   "source": [
    "import tensorflow as tf\n",
    "tf.__version__"
   ]
  },
  {
   "cell_type": "code",
   "execution_count": 4,
   "metadata": {},
   "outputs": [],
   "source": [
    "import tensorflow"
   ]
  },
  {
   "cell_type": "code",
   "execution_count": 6,
   "metadata": {},
   "outputs": [],
   "source": [
    "#Import ImageDataGenerator Library\n",
    "import tensorflow.keras\n",
    "from tensorflow.keras.preprocessing.image import ImageDataGenerator"
   ]
  },
  {
   "cell_type": "code",
   "execution_count": 7,
   "metadata": {},
   "outputs": [],
   "source": [
    "#Define the parameters /arguments for ImageDataGenerator class to train set \n",
    "train_datagen = ImageDataGenerator(rescale=1./255,shear_range=0.2,\n",
    "                                   horizontal_flip=True,\n",
    "                                   zoom_range=0.2,\n",
    "                                  rotation_range=180) \n",
    "\n",
    "\n",
    "#Define the parameters /arguments for ImageDataGenerator class to test set\n",
    "test_datagen = ImageDataGenerator(rescale=1./255)"
   ]
  },
  {
   "cell_type": "code",
   "execution_count": 8,
   "metadata": {},
   "outputs": [
    {
     "name": "stdout",
     "output_type": "stream",
     "text": [
      "Found 624 images belonging to 8 classes.\n",
      "Found 269 images belonging to 8 classes.\n"
     ]
    }
   ],
   "source": [
    "#Applying ImageDataGenerator functionality to trainset\n",
    "x_train=train_datagen.flow_from_directory( r\"D:\\Project_Dataset\\dataset\\training_set\",\n",
    "    target_size=(128,128),\n",
    "    batch_size=32,\n",
    "    class_mode='categorical')\n",
    "\n",
    "#Applying ImageDataGenerator functionality to test set\n",
    "x_test=test_datagen.flow_from_directory(\n",
    "  r'D:\\Project_Dataset\\dataset\\test_set',\n",
    "    target_size=(128,128),\n",
    "    batch_size=32,\n",
    "    class_mode='categorical')"
   ]
  },
  {
   "cell_type": "code",
   "execution_count": 9,
   "metadata": {},
   "outputs": [],
   "source": [
    "'''Importing the model building libraries'''\n",
    "#to define linear initializations import Sequential\n",
    "from tensorflow.keras.models import Sequential\n",
    "#To add layers import Dense\n",
    "from tensorflow.keras.layers import Dense\n",
    "# to create a convolution kernel import Convolution2D\n",
    "from tensorflow.keras.layers import Conv2D\n",
    "# to create a Max pooling Layer\n",
    "from tensorflow.keras.layers import MaxPool2D\n",
    "# to create a Flatten Layer\n",
    "from tensorflow.keras.layers import Flatten\n",
    "from tensorflow.keras.layers import Dropout"
   ]
  },
  {
   "cell_type": "code",
   "execution_count": 10,
   "metadata": {},
   "outputs": [],
   "source": [
    "# Initializing the model\n",
    "model = Sequential()"
   ]
  },
  {
   "cell_type": "code",
   "execution_count": 11,
   "metadata": {},
   "outputs": [],
   "source": [
    "# Adding CNN layers\n",
    "model.add(Conv2D(64,3,3,input_shape=(128,128,3),activation='relu'))"
   ]
  },
  {
   "cell_type": "code",
   "execution_count": 12,
   "metadata": {},
   "outputs": [],
   "source": [
    "# Adding Max pooling Layer\n",
    "model.add(MaxPool2D(pool_size=(2,2)))"
   ]
  },
  {
   "cell_type": "code",
   "execution_count": 13,
   "metadata": {},
   "outputs": [],
   "source": [
    "# Adding CNN layers\n",
    "model.add(Conv2D(64,3,3,activation='relu'))"
   ]
  },
  {
   "cell_type": "code",
   "execution_count": 14,
   "metadata": {},
   "outputs": [],
   "source": [
    "\n",
    "# Adding Max pooling Layer\n",
    "model.add(MaxPool2D(pool_size=(2,2)))"
   ]
  },
  {
   "cell_type": "code",
   "execution_count": 15,
   "metadata": {},
   "outputs": [],
   "source": [
    "# Adding Flatten Layer\n",
    "model.add(Flatten())"
   ]
  },
  {
   "cell_type": "code",
   "execution_count": 16,
   "metadata": {},
   "outputs": [],
   "source": [
    "\n",
    "model.add(Dropout(0.3))"
   ]
  },
  {
   "cell_type": "code",
   "execution_count": 17,
   "metadata": {},
   "outputs": [],
   "source": [
    "# Adding Hidden Layers\n",
    "model.add(Dense(kernel_initializer='uniform',activation='relu',units=150))\n",
    "#model.add(Dense(activation='relu',init='uniform',units=150))"
   ]
  },
  {
   "cell_type": "code",
   "execution_count": 18,
   "metadata": {},
   "outputs": [],
   "source": [
    "model.add(Dense(kernel_initializer='uniform',activation='relu',units=68))"
   ]
  },
  {
   "cell_type": "code",
   "execution_count": 19,
   "metadata": {},
   "outputs": [],
   "source": [
    "model.add(Dense(kernel_initializer='uniform',activation='relu',units=200))"
   ]
  },
  {
   "cell_type": "code",
   "execution_count": 20,
   "metadata": {},
   "outputs": [],
   "source": [
    "model.add(Dense(kernel_initializer='uniform',activation='relu',units=300))"
   ]
  },
  {
   "cell_type": "code",
   "execution_count": 21,
   "metadata": {},
   "outputs": [],
   "source": [
    "# Adding Hidden Layers\n",
    "model.add(Dense(kernel_initializer='uniform',activation='relu',units=100))\n",
    "#model.add(Dense(activation='relu',init='uniform',units=75))"
   ]
  },
  {
   "cell_type": "code",
   "execution_count": 22,
   "metadata": {},
   "outputs": [],
   "source": [
    "# Adding output Layers\n",
    "model.add(Dense(kernel_initializer='uniform',activation='softmax',units=8))\n",
    "#model.add(Dense(units=6,init='uniform',activation='softmax'))"
   ]
  },
  {
   "cell_type": "code",
   "execution_count": 23,
   "metadata": {},
   "outputs": [
    {
     "name": "stdout",
     "output_type": "stream",
     "text": [
      "Model: \"sequential\"\n",
      "_________________________________________________________________\n",
      "Layer (type)                 Output Shape              Param #   \n",
      "=================================================================\n",
      "conv2d (Conv2D)              (None, 42, 42, 64)        1792      \n",
      "_________________________________________________________________\n",
      "max_pooling2d (MaxPooling2D) (None, 21, 21, 64)        0         \n",
      "_________________________________________________________________\n",
      "conv2d_1 (Conv2D)            (None, 7, 7, 64)          36928     \n",
      "_________________________________________________________________\n",
      "max_pooling2d_1 (MaxPooling2 (None, 3, 3, 64)          0         \n",
      "_________________________________________________________________\n",
      "flatten (Flatten)            (None, 576)               0         \n",
      "_________________________________________________________________\n",
      "dropout (Dropout)            (None, 576)               0         \n",
      "_________________________________________________________________\n",
      "dense (Dense)                (None, 150)               86550     \n",
      "_________________________________________________________________\n",
      "dense_1 (Dense)              (None, 68)                10268     \n",
      "_________________________________________________________________\n",
      "dense_2 (Dense)              (None, 200)               13800     \n",
      "_________________________________________________________________\n",
      "dense_3 (Dense)              (None, 300)               60300     \n",
      "_________________________________________________________________\n",
      "dense_4 (Dense)              (None, 100)               30100     \n",
      "_________________________________________________________________\n",
      "dense_5 (Dense)              (None, 8)                 808       \n",
      "=================================================================\n",
      "Total params: 240,546\n",
      "Trainable params: 240,546\n",
      "Non-trainable params: 0\n",
      "_________________________________________________________________\n"
     ]
    }
   ],
   "source": [
    "#check the summary of the model\n",
    "model.summary()"
   ]
  },
  {
   "cell_type": "code",
   "execution_count": 24,
   "metadata": {},
   "outputs": [],
   "source": [
    "# Configure the learning process\n",
    "model.compile(optimizer = 'adam',loss='categorical_crossentropy',\n",
    "              metrics=['accuracy']) "
   ]
  },
  {
   "cell_type": "code",
   "execution_count": 25,
   "metadata": {},
   "outputs": [
    {
     "name": "stdout",
     "output_type": "stream",
     "text": [
      "{'Mountain Laurel_nonedible': 0, 'Peppergrass_edible': 1, 'Purple Deadnettle_edible': 2, 'Rhododendron_nonedible': 3, 'Toothwort_edible': 4, 'Wild Grape Vine_edible': 5, 'Wild Leek_edible': 6, 'rattlebox_nonedible': 7}\n"
     ]
    }
   ],
   "source": [
    "#check the index position of classes\n",
    "print(x_train.class_indices)"
   ]
  },
  {
   "cell_type": "code",
   "execution_count": 26,
   "metadata": {},
   "outputs": [
    {
     "name": "stderr",
     "output_type": "stream",
     "text": [
      "C:\\Users\\HABIN\\Anaconda3\\lib\\site-packages\\tensorflow\\python\\keras\\engine\\training.py:1940: UserWarning: `Model.fit_generator` is deprecated and will be removed in a future version. Please use `Model.fit`, which supports generators.\n",
      "  warnings.warn('`Model.fit_generator` is deprecated and '\n"
     ]
    },
    {
     "name": "stdout",
     "output_type": "stream",
     "text": [
      "Epoch 1/100\n",
      "19/19 [==============================] - 19s 937ms/step - loss: 2.0787 - accuracy: 0.1841 - val_loss: 2.0795 - val_accuracy: 0.1250\n",
      "Epoch 2/100\n",
      "19/19 [==============================] - 12s 600ms/step - loss: 2.0734 - accuracy: 0.1875 - val_loss: 2.0958 - val_accuracy: 0.1289\n",
      "Epoch 3/100\n",
      "19/19 [==============================] - 10s 558ms/step - loss: 2.0608 - accuracy: 0.1909 - val_loss: 2.0743 - val_accuracy: 0.1367\n",
      "Epoch 4/100\n",
      "19/19 [==============================] - 11s 563ms/step - loss: 2.0595 - accuracy: 0.1875 - val_loss: 2.0534 - val_accuracy: 0.1367\n",
      "Epoch 5/100\n",
      "19/19 [==============================] - 10s 524ms/step - loss: 2.0343 - accuracy: 0.1943 - val_loss: 2.1383 - val_accuracy: 0.1289\n",
      "Epoch 6/100\n",
      "19/19 [==============================] - 10s 513ms/step - loss: 2.0049 - accuracy: 0.2111 - val_loss: 2.1873 - val_accuracy: 0.1875\n",
      "Epoch 7/100\n",
      "19/19 [==============================] - 10s 544ms/step - loss: 1.9797 - accuracy: 0.2179 - val_loss: 2.0045 - val_accuracy: 0.2031\n",
      "Epoch 8/100\n",
      "19/19 [==============================] - 10s 535ms/step - loss: 1.9355 - accuracy: 0.2162 - val_loss: 1.9810 - val_accuracy: 0.2227\n",
      "Epoch 9/100\n",
      "19/19 [==============================] - 10s 533ms/step - loss: 1.9255 - accuracy: 0.2230 - val_loss: 1.9342 - val_accuracy: 0.2383\n",
      "Epoch 10/100\n",
      "19/19 [==============================] - 11s 585ms/step - loss: 1.8957 - accuracy: 0.2568 - val_loss: 1.9158 - val_accuracy: 0.2461\n",
      "Epoch 11/100\n",
      "19/19 [==============================] - 10s 506ms/step - loss: 1.9237 - accuracy: 0.2669 - val_loss: 1.9252 - val_accuracy: 0.2344\n",
      "Epoch 12/100\n",
      "19/19 [==============================] - 10s 557ms/step - loss: 1.8751 - accuracy: 0.2466 - val_loss: 1.9045 - val_accuracy: 0.2461\n",
      "Epoch 13/100\n",
      "19/19 [==============================] - 10s 518ms/step - loss: 1.8728 - accuracy: 0.2365 - val_loss: 1.8732 - val_accuracy: 0.2617\n",
      "Epoch 14/100\n",
      "19/19 [==============================] - 9s 490ms/step - loss: 1.8546 - accuracy: 0.2804 - val_loss: 1.8821 - val_accuracy: 0.2539\n",
      "Epoch 15/100\n",
      "19/19 [==============================] - 11s 565ms/step - loss: 1.8419 - accuracy: 0.2838 - val_loss: 1.9056 - val_accuracy: 0.2578\n",
      "Epoch 16/100\n",
      "19/19 [==============================] - 10s 536ms/step - loss: 1.8113 - accuracy: 0.3057 - val_loss: 1.8719 - val_accuracy: 0.2617\n",
      "Epoch 17/100\n",
      "19/19 [==============================] - 11s 565ms/step - loss: 1.7720 - accuracy: 0.3328 - val_loss: 2.0896 - val_accuracy: 0.2422\n",
      "Epoch 18/100\n",
      "19/19 [==============================] - 10s 520ms/step - loss: 1.8619 - accuracy: 0.2686 - val_loss: 1.9870 - val_accuracy: 0.2461\n",
      "Epoch 19/100\n",
      "19/19 [==============================] - 10s 551ms/step - loss: 1.8377 - accuracy: 0.2956 - val_loss: 1.8999 - val_accuracy: 0.2852\n",
      "Epoch 20/100\n",
      "19/19 [==============================] - 10s 534ms/step - loss: 1.7979 - accuracy: 0.3091 - val_loss: 1.8486 - val_accuracy: 0.2969\n",
      "Epoch 21/100\n",
      "19/19 [==============================] - 10s 527ms/step - loss: 1.7666 - accuracy: 0.3159 - val_loss: 1.8865 - val_accuracy: 0.2695\n",
      "Epoch 22/100\n",
      "19/19 [==============================] - 10s 508ms/step - loss: 1.7866 - accuracy: 0.3074 - val_loss: 1.8390 - val_accuracy: 0.3086\n",
      "Epoch 23/100\n",
      "19/19 [==============================] - 9s 471ms/step - loss: 1.7355 - accuracy: 0.3260 - val_loss: 1.8860 - val_accuracy: 0.3047\n",
      "Epoch 24/100\n",
      "19/19 [==============================] - 10s 516ms/step - loss: 1.6874 - accuracy: 0.3328 - val_loss: 1.8879 - val_accuracy: 0.3125\n",
      "Epoch 25/100\n",
      "19/19 [==============================] - 10s 522ms/step - loss: 1.6850 - accuracy: 0.3470 - val_loss: 1.8946 - val_accuracy: 0.3242\n",
      "Epoch 26/100\n",
      "19/19 [==============================] - 10s 505ms/step - loss: 1.6730 - accuracy: 0.3615 - val_loss: 1.8329 - val_accuracy: 0.3047\n",
      "Epoch 27/100\n",
      "19/19 [==============================] - 10s 537ms/step - loss: 1.6531 - accuracy: 0.3801 - val_loss: 1.8303 - val_accuracy: 0.3398\n",
      "Epoch 28/100\n",
      "19/19 [==============================] - 10s 537ms/step - loss: 1.6526 - accuracy: 0.3564 - val_loss: 1.8013 - val_accuracy: 0.3320\n",
      "Epoch 29/100\n",
      "19/19 [==============================] - 10s 526ms/step - loss: 1.6525 - accuracy: 0.3598 - val_loss: 1.8096 - val_accuracy: 0.2969\n",
      "Epoch 30/100\n",
      "19/19 [==============================] - 10s 541ms/step - loss: 1.7077 - accuracy: 0.3553 - val_loss: 1.7425 - val_accuracy: 0.3164\n",
      "Epoch 31/100\n",
      "19/19 [==============================] - 11s 567ms/step - loss: 1.6670 - accuracy: 0.3514 - val_loss: 1.7974 - val_accuracy: 0.3320\n",
      "Epoch 32/100\n",
      "19/19 [==============================] - 10s 554ms/step - loss: 1.6531 - accuracy: 0.3581 - val_loss: 1.7740 - val_accuracy: 0.3516\n",
      "Epoch 33/100\n",
      "19/19 [==============================] - 10s 533ms/step - loss: 1.6236 - accuracy: 0.3834 - val_loss: 1.8221 - val_accuracy: 0.3320\n",
      "Epoch 34/100\n",
      "19/19 [==============================] - 9s 497ms/step - loss: 1.6438 - accuracy: 0.3598 - val_loss: 1.7963 - val_accuracy: 0.3242\n",
      "Epoch 35/100\n",
      "19/19 [==============================] - 10s 502ms/step - loss: 1.5962 - accuracy: 0.3868 - val_loss: 1.8251 - val_accuracy: 0.3320\n",
      "Epoch 36/100\n",
      "19/19 [==============================] - 11s 578ms/step - loss: 1.6053 - accuracy: 0.3598 - val_loss: 1.8691 - val_accuracy: 0.2930\n",
      "Epoch 37/100\n",
      "19/19 [==============================] - 10s 544ms/step - loss: 1.6785 - accuracy: 0.3564 - val_loss: 1.7154 - val_accuracy: 0.3320\n",
      "Epoch 38/100\n",
      "19/19 [==============================] - 9s 483ms/step - loss: 1.6276 - accuracy: 0.3868 - val_loss: 1.7663 - val_accuracy: 0.3438\n",
      "Epoch 39/100\n",
      "19/19 [==============================] - 9s 497ms/step - loss: 1.5788 - accuracy: 0.3699 - val_loss: 1.8653 - val_accuracy: 0.3477\n",
      "Epoch 40/100\n",
      "19/19 [==============================] - 11s 560ms/step - loss: 1.5391 - accuracy: 0.4037 - val_loss: 1.7509 - val_accuracy: 0.3633\n",
      "Epoch 41/100\n",
      "19/19 [==============================] - 10s 518ms/step - loss: 1.5600 - accuracy: 0.3936 - val_loss: 1.8432 - val_accuracy: 0.3555\n",
      "Epoch 42/100\n",
      "19/19 [==============================] - 10s 520ms/step - loss: 1.6172 - accuracy: 0.3936 - val_loss: 1.7726 - val_accuracy: 0.3281\n",
      "Epoch 43/100\n",
      "19/19 [==============================] - 10s 553ms/step - loss: 1.6089 - accuracy: 0.3586 - val_loss: 1.8179 - val_accuracy: 0.3203\n",
      "Epoch 44/100\n",
      "19/19 [==============================] - 10s 521ms/step - loss: 1.5488 - accuracy: 0.4206 - val_loss: 1.8842 - val_accuracy: 0.3164\n",
      "Epoch 45/100\n",
      "19/19 [==============================] - 10s 535ms/step - loss: 1.5634 - accuracy: 0.4105 - val_loss: 1.7726 - val_accuracy: 0.3398\n",
      "Epoch 46/100\n",
      "19/19 [==============================] - 10s 531ms/step - loss: 1.5644 - accuracy: 0.4071 - val_loss: 1.7721 - val_accuracy: 0.3594\n",
      "Epoch 47/100\n",
      "19/19 [==============================] - 10s 538ms/step - loss: 1.5994 - accuracy: 0.3919 - val_loss: 1.7299 - val_accuracy: 0.3516\n",
      "Epoch 48/100\n",
      "19/19 [==============================] - 11s 571ms/step - loss: 1.5758 - accuracy: 0.3885 - val_loss: 1.7787 - val_accuracy: 0.3398\n",
      "Epoch 49/100\n",
      "19/19 [==============================] - 9s 493ms/step - loss: 1.5260 - accuracy: 0.4155 - val_loss: 1.7683 - val_accuracy: 0.3633\n",
      "Epoch 50/100\n",
      "19/19 [==============================] - 10s 532ms/step - loss: 1.5624 - accuracy: 0.3953 - val_loss: 1.7842 - val_accuracy: 0.3281\n",
      "Epoch 51/100\n",
      "19/19 [==============================] - 11s 588ms/step - loss: 1.5086 - accuracy: 0.4341 - val_loss: 1.7938 - val_accuracy: 0.3477\n",
      "Epoch 52/100\n",
      "19/19 [==============================] - 10s 521ms/step - loss: 1.5180 - accuracy: 0.4189 - val_loss: 1.9159 - val_accuracy: 0.3555\n",
      "Epoch 53/100\n",
      "19/19 [==============================] - 11s 560ms/step - loss: 1.5347 - accuracy: 0.4139 - val_loss: 1.7445 - val_accuracy: 0.3711\n",
      "Epoch 54/100\n",
      "19/19 [==============================] - 11s 576ms/step - loss: 1.5310 - accuracy: 0.4139 - val_loss: 1.6891 - val_accuracy: 0.3711\n",
      "Epoch 55/100\n",
      "19/19 [==============================] - 11s 558ms/step - loss: 1.5003 - accuracy: 0.4071 - val_loss: 1.7975 - val_accuracy: 0.3203\n",
      "Epoch 56/100\n",
      "19/19 [==============================] - 10s 505ms/step - loss: 1.5209 - accuracy: 0.4020 - val_loss: 1.7096 - val_accuracy: 0.3828\n",
      "Epoch 57/100\n"
     ]
    },
    {
     "name": "stdout",
     "output_type": "stream",
     "text": [
      "19/19 [==============================] - 10s 535ms/step - loss: 1.4565 - accuracy: 0.4206 - val_loss: 1.8401 - val_accuracy: 0.3516\n",
      "Epoch 58/100\n",
      "19/19 [==============================] - 11s 565ms/step - loss: 1.5149 - accuracy: 0.3818 - val_loss: 1.7710 - val_accuracy: 0.3633\n",
      "Epoch 59/100\n",
      "19/19 [==============================] - 10s 507ms/step - loss: 1.4703 - accuracy: 0.4358 - val_loss: 1.7608 - val_accuracy: 0.3984\n",
      "Epoch 60/100\n",
      "19/19 [==============================] - 10s 523ms/step - loss: 1.4397 - accuracy: 0.4527 - val_loss: 1.6525 - val_accuracy: 0.3906\n",
      "Epoch 61/100\n",
      "19/19 [==============================] - 9s 483ms/step - loss: 1.4249 - accuracy: 0.4561 - val_loss: 1.6545 - val_accuracy: 0.3672\n",
      "Epoch 62/100\n",
      "19/19 [==============================] - 11s 557ms/step - loss: 1.4502 - accuracy: 0.4223 - val_loss: 1.6365 - val_accuracy: 0.3828\n",
      "Epoch 63/100\n",
      "19/19 [==============================] - 10s 522ms/step - loss: 1.4244 - accuracy: 0.4510 - val_loss: 1.8017 - val_accuracy: 0.3672\n",
      "Epoch 64/100\n",
      "19/19 [==============================] - 10s 541ms/step - loss: 1.4707 - accuracy: 0.4493 - val_loss: 1.6675 - val_accuracy: 0.4062\n",
      "Epoch 65/100\n",
      "19/19 [==============================] - 11s 552ms/step - loss: 1.4647 - accuracy: 0.4274 - val_loss: 1.5945 - val_accuracy: 0.3984\n",
      "Epoch 66/100\n",
      "19/19 [==============================] - 10s 538ms/step - loss: 1.4334 - accuracy: 0.4459 - val_loss: 1.7059 - val_accuracy: 0.3828\n",
      "Epoch 67/100\n",
      "19/19 [==============================] - 10s 541ms/step - loss: 1.4803 - accuracy: 0.4307 - val_loss: 1.6762 - val_accuracy: 0.3672\n",
      "Epoch 68/100\n",
      "19/19 [==============================] - 10s 558ms/step - loss: 1.4583 - accuracy: 0.4527 - val_loss: 1.7272 - val_accuracy: 0.3828\n",
      "Epoch 69/100\n",
      "19/19 [==============================] - 10s 517ms/step - loss: 1.4565 - accuracy: 0.4510 - val_loss: 1.6551 - val_accuracy: 0.3359\n",
      "Epoch 70/100\n",
      "19/19 [==============================] - 10s 510ms/step - loss: 1.4170 - accuracy: 0.4392 - val_loss: 1.9587 - val_accuracy: 0.3320\n",
      "Epoch 71/100\n",
      "19/19 [==============================] - 10s 531ms/step - loss: 1.5229 - accuracy: 0.4324 - val_loss: 1.6856 - val_accuracy: 0.4141\n",
      "Epoch 72/100\n",
      "19/19 [==============================] - 10s 540ms/step - loss: 1.4197 - accuracy: 0.4696 - val_loss: 1.6802 - val_accuracy: 0.3984\n",
      "Epoch 73/100\n",
      "19/19 [==============================] - 11s 582ms/step - loss: 1.4381 - accuracy: 0.4426 - val_loss: 1.7262 - val_accuracy: 0.4141\n",
      "Epoch 74/100\n",
      "19/19 [==============================] - 10s 542ms/step - loss: 1.3929 - accuracy: 0.4527 - val_loss: 1.6343 - val_accuracy: 0.4062\n",
      "Epoch 75/100\n",
      "19/19 [==============================] - 11s 563ms/step - loss: 1.3927 - accuracy: 0.4510 - val_loss: 1.7079 - val_accuracy: 0.3906\n",
      "Epoch 76/100\n",
      "19/19 [==============================] - 11s 572ms/step - loss: 1.3948 - accuracy: 0.4679 - val_loss: 1.6945 - val_accuracy: 0.3906\n",
      "Epoch 77/100\n",
      "19/19 [==============================] - 14s 728ms/step - loss: 1.4013 - accuracy: 0.4662 - val_loss: 1.6718 - val_accuracy: 0.3945\n",
      "Epoch 78/100\n",
      "19/19 [==============================] - 11s 572ms/step - loss: 1.3892 - accuracy: 0.4611 - val_loss: 1.6565 - val_accuracy: 0.4375\n",
      "Epoch 79/100\n",
      "19/19 [==============================] - 10s 510ms/step - loss: 1.3879 - accuracy: 0.4865 - val_loss: 1.7705 - val_accuracy: 0.3984\n",
      "Epoch 80/100\n",
      "19/19 [==============================] - 10s 508ms/step - loss: 1.3679 - accuracy: 0.4696 - val_loss: 1.6171 - val_accuracy: 0.4336\n",
      "Epoch 81/100\n",
      "19/19 [==============================] - 8s 449ms/step - loss: 1.3532 - accuracy: 0.4764 - val_loss: 1.6218 - val_accuracy: 0.4062\n",
      "Epoch 82/100\n",
      "19/19 [==============================] - 10s 519ms/step - loss: 1.3455 - accuracy: 0.4882 - val_loss: 1.6418 - val_accuracy: 0.4141\n",
      "Epoch 83/100\n",
      "19/19 [==============================] - 9s 450ms/step - loss: 1.3969 - accuracy: 0.4628 - val_loss: 1.6023 - val_accuracy: 0.4258\n",
      "Epoch 84/100\n",
      "19/19 [==============================] - 9s 495ms/step - loss: 1.3555 - accuracy: 0.4831 - val_loss: 1.7113 - val_accuracy: 0.3984\n",
      "Epoch 85/100\n",
      "19/19 [==============================] - 10s 524ms/step - loss: 1.3918 - accuracy: 0.4730 - val_loss: 1.5925 - val_accuracy: 0.4219\n",
      "Epoch 86/100\n",
      "19/19 [==============================] - 11s 567ms/step - loss: 1.3731 - accuracy: 0.4730 - val_loss: 1.6356 - val_accuracy: 0.4102\n",
      "Epoch 87/100\n",
      "19/19 [==============================] - 10s 510ms/step - loss: 1.3516 - accuracy: 0.4932 - val_loss: 1.6384 - val_accuracy: 0.4414\n",
      "Epoch 88/100\n",
      "19/19 [==============================] - 10s 539ms/step - loss: 1.3126 - accuracy: 0.5051 - val_loss: 1.5978 - val_accuracy: 0.4258\n",
      "Epoch 89/100\n",
      "19/19 [==============================] - 11s 596ms/step - loss: 1.2752 - accuracy: 0.5049 - val_loss: 1.6498 - val_accuracy: 0.4023\n",
      "Epoch 90/100\n",
      "19/19 [==============================] - 10s 552ms/step - loss: 1.3224 - accuracy: 0.5084 - val_loss: 1.6138 - val_accuracy: 0.4180\n",
      "Epoch 91/100\n",
      "19/19 [==============================] - 10s 539ms/step - loss: 1.3360 - accuracy: 0.4831 - val_loss: 1.5720 - val_accuracy: 0.4414\n",
      "Epoch 92/100\n",
      "19/19 [==============================] - 11s 558ms/step - loss: 1.3001 - accuracy: 0.5084 - val_loss: 1.6118 - val_accuracy: 0.4219\n",
      "Epoch 93/100\n",
      "19/19 [==============================] - 11s 559ms/step - loss: 1.3257 - accuracy: 0.4899 - val_loss: 1.5603 - val_accuracy: 0.4453\n",
      "Epoch 94/100\n",
      "19/19 [==============================] - 11s 577ms/step - loss: 1.3211 - accuracy: 0.4865 - val_loss: 1.6664 - val_accuracy: 0.4336\n",
      "Epoch 95/100\n",
      "19/19 [==============================] - 10s 521ms/step - loss: 1.3334 - accuracy: 0.5084 - val_loss: 1.6031 - val_accuracy: 0.4102\n",
      "Epoch 96/100\n",
      "19/19 [==============================] - 10s 539ms/step - loss: 1.3300 - accuracy: 0.4865 - val_loss: 1.6680 - val_accuracy: 0.4375\n",
      "Epoch 97/100\n",
      "19/19 [==============================] - 10s 525ms/step - loss: 1.2822 - accuracy: 0.5016 - val_loss: 1.6512 - val_accuracy: 0.4219\n",
      "Epoch 98/100\n",
      "19/19 [==============================] - 10s 544ms/step - loss: 1.2562 - accuracy: 0.5068 - val_loss: 1.6787 - val_accuracy: 0.3984\n",
      "Epoch 99/100\n",
      "19/19 [==============================] - 11s 574ms/step - loss: 1.2878 - accuracy: 0.5084 - val_loss: 1.6058 - val_accuracy: 0.4570\n",
      "Epoch 100/100\n",
      "19/19 [==============================] - 10s 550ms/step - loss: 1.2771 - accuracy: 0.5017 - val_loss: 1.7177 - val_accuracy: 0.4219\n"
     ]
    }
   ],
   "source": [
    "# Training the model\n",
    "\n",
    "\n",
    "\n",
    "#res = model.fit_generator(x_train,steps_per_epoch=14,validation_steps=5,epochs=40,validation_data=x_test)\n",
    "# Training the model\n",
    "history = model.fit_generator(x_train,steps_per_epoch=624//32,\n",
    "                              validation_data=x_test,\n",
    "                              epochs=100,validation_steps=269//32)\n",
    "#history = model.fit_generator(x_train,steps_per_epoch=14,validation_data=x_test,epochs=40,validation_steps=5)"
   ]
  },
  {
   "cell_type": "code",
   "execution_count": 27,
   "metadata": {},
   "outputs": [],
   "source": [
    "#save the model\n",
    "model.save('edible-non.h5')"
   ]
  },
  {
   "cell_type": "code",
   "execution_count": 31,
   "metadata": {},
   "outputs": [],
   "source": [
    "#import numpy library\n",
    "import numpy as np\n",
    "#import load_model method to load our saved model\n",
    "from tensorflow.keras.models import load_model\n",
    "#import image from keras.preprocessing\n",
    "from tensorflow.keras.preprocessing import image\n",
    "#loading our saved model file\n",
    "model = load_model(\"edible-non.h5\")"
   ]
  },
  {
   "cell_type": "code",
   "execution_count": 33,
   "metadata": {},
   "outputs": [
    {
     "data": {
      "text/plain": [
       "array([3], dtype=int64)"
      ]
     },
     "execution_count": 33,
     "metadata": {},
     "output_type": "execute_result"
    }
   ],
   "source": [
    "img = image.load_img(r\"D:\\Project_Dataset\\dataset\\training_set\\Purple Deadnettle_edible\\Purple-Deadnettle.jpg\",\n",
    "                     target_size=(128,128))\n",
    "x = image.img_to_array(img)\n",
    "#expanding the shape of image to 4 dimensions\n",
    "x = np.expand_dims(x,axis=0)\n",
    "pred = model.predict_classes(x)\n",
    "pred"
   ]
  },
  {
   "cell_type": "code",
   "execution_count": 34,
   "metadata": {},
   "outputs": [
    {
     "data": {
      "text/plain": [
       "'Rhododendron_nonedible'"
      ]
     },
     "execution_count": 34,
     "metadata": {},
     "output_type": "execute_result"
    }
   ],
   "source": [
    "index=['Mountain Laurel_nonedible', 'Peppergrass_edible', 'Purple Deadnettle_edible', \n",
    "       'Rhododendron_nonedible', 'Toothwort_edible', 'Wild Grape Vine_edible', 'Wild Leek_edible', 'rattlebox_nonedible']\n",
    "result = str(index[pred[0]])\n",
    "result"
   ]
  },
  {
   "cell_type": "code",
   "execution_count": null,
   "metadata": {},
   "outputs": [],
   "source": []
  },
  {
   "cell_type": "code",
   "execution_count": null,
   "metadata": {},
   "outputs": [],
   "source": []
  },
  {
   "cell_type": "code",
   "execution_count": null,
   "metadata": {},
   "outputs": [],
   "source": []
  },
  {
   "cell_type": "code",
   "execution_count": null,
   "metadata": {},
   "outputs": [],
   "source": []
  },
  {
   "cell_type": "code",
   "execution_count": null,
   "metadata": {},
   "outputs": [],
   "source": []
  },
  {
   "cell_type": "code",
   "execution_count": null,
   "metadata": {},
   "outputs": [],
   "source": []
  },
  {
   "cell_type": "code",
   "execution_count": null,
   "metadata": {},
   "outputs": [],
   "source": []
  },
  {
   "cell_type": "code",
   "execution_count": null,
   "metadata": {},
   "outputs": [],
   "source": []
  }
 ],
 "metadata": {
  "kernelspec": {
   "display_name": "Python 3",
   "language": "python",
   "name": "python3"
  },
  "language_info": {
   "codemirror_mode": {
    "name": "ipython",
    "version": 3
   },
   "file_extension": ".py",
   "mimetype": "text/x-python",
   "name": "python",
   "nbconvert_exporter": "python",
   "pygments_lexer": "ipython3",
   "version": "3.7.3"
  }
 },
 "nbformat": 4,
 "nbformat_minor": 2
}
